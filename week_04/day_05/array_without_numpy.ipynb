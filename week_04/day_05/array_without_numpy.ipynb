{
 "cells": [
  {
   "cell_type": "code",
   "execution_count": 5,
   "metadata": {},
   "outputs": [
    {
     "name": "stdout",
     "output_type": "stream",
     "text": [
      "[1, 2, 3]\n",
      "['hello']\n",
      "[4, 5, 6]\n"
     ]
    }
   ],
   "source": [
    "lst = ([1, 2, 3], ['hello'], [4, 5, 6])\n",
    "\n",
    "for i in lst:\n",
    "    print(i)"
   ]
  },
  {
   "cell_type": "code",
   "execution_count": null,
   "metadata": {},
   "outputs": [],
   "source": [
    "\n",
    "def mat_creation(mat):\n",
    "    for i in range(mat):\n",
    "        row = []\n",
    "        for j in range(mat):\n",
    "            row.append(0)\n",
    "        matrix.append(print_matrix)\n",
    "    return matrix\n",
    "\n",
    "def print_matrix(matriz):\n",
    "    row = len(matriz)\n",
    "    column = len(matriz[0])\n",
    "    for r in range(row):\n",
    "        for c in range(column):\n",
    "            print(matrix[r][c], end='')\n",
    "        print()\n",
    "    \n",
    "\n",
    "side = int(input('Enter side of a matrix: '))\n",
    "matrix = []\n",
    "mat_creation(side)\n",
    "\n",
    "print_matrix(matrix)\n",
    "# worng "
   ]
  },
  {
   "cell_type": "code",
   "execution_count": null,
   "metadata": {},
   "outputs": [],
   "source": [
    "def create_matrix(rows, column, initial_value=0):\n",
    "    return [[initial_value for col in range(column)] for r in range(rows)]\n",
    "\n",
    "# Example: Create a 2x2 matrix with initial value 1\n",
    "matrix = create_matrix(2,2, initial_value = 2 )\n",
    "\n",
    "\n",
    "# Print the matrix\n",
    "for i in matrix:\n",
    "    print(i)"
   ]
  },
  {
   "cell_type": "code",
   "execution_count": null,
   "metadata": {},
   "outputs": [],
   "source": []
  },
  {
   "cell_type": "code",
   "execution_count": null,
   "metadata": {},
   "outputs": [],
   "source": []
  }
 ],
 "metadata": {
  "kernelspec": {
   "display_name": "Python 3 (ipykernel)",
   "language": "python",
   "name": "python3"
  },
  "language_info": {
   "codemirror_mode": {
    "name": "ipython",
    "version": 3
   },
   "file_extension": ".py",
   "mimetype": "text/x-python",
   "name": "python",
   "nbconvert_exporter": "python",
   "pygments_lexer": "ipython3",
   "version": "3.11.5"
  }
 },
 "nbformat": 4,
 "nbformat_minor": 2
}
