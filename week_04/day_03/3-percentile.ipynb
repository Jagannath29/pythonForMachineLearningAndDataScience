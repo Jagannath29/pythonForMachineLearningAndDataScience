{
 "cells": [
  {
   "cell_type": "markdown",
   "metadata": {
    "id": "hblJJG7E3Ep7"
   },
   "source": [
    "## Percentile\n",
    "- Percentile is a value below which a certain percentage of observation lie.\n",
    "- **Interpretation:**\n",
    "  - If student scored in the 75% percentile, they performed better than 75% of the students.\n",
    "- **Formulae:**\n",
    "  - Percentile rank of x = (#of value below x) / (n)\n",
    "\n",
    "\n",
    "_**`75% percentile means 75% of data points are below the value at 75% percentile`**_"
   ]
  },
  {
   "cell_type": "code",
   "execution_count": 3,
   "metadata": {},
   "outputs": [
    {
     "name": "stdout",
     "output_type": "stream",
     "text": [
      "Collecting seaborn\n",
      "  Downloading seaborn-0.13.2-py3-none-any.whl (294 kB)\n",
      "\u001b[2K     \u001b[90m━━━━━━━━━━━━━━━━━━━━━━━━━━━━━━━━━━━━━━━\u001b[0m \u001b[32m294.9/294.9 KB\u001b[0m \u001b[31m1.0 MB/s\u001b[0m eta \u001b[36m0:00:00\u001b[0ma \u001b[36m0:00:01\u001b[0m\n",
      "\u001b[?25hRequirement already satisfied: numpy!=1.24.0,>=1.20 in /home/fm-pc-lt-227/Documents/personal/Mahanagar/Data-Science-Journey/venv/lib/python3.10/site-packages (from seaborn) (1.26.4)\n",
      "Requirement already satisfied: matplotlib!=3.6.1,>=3.4 in /home/fm-pc-lt-227/Documents/personal/Mahanagar/Data-Science-Journey/venv/lib/python3.10/site-packages (from seaborn) (3.8.3)\n",
      "Requirement already satisfied: pandas>=1.2 in /home/fm-pc-lt-227/Documents/personal/Mahanagar/Data-Science-Journey/venv/lib/python3.10/site-packages (from seaborn) (2.2.1)\n",
      "Requirement already satisfied: packaging>=20.0 in /home/fm-pc-lt-227/Documents/personal/Mahanagar/Data-Science-Journey/venv/lib/python3.10/site-packages (from matplotlib!=3.6.1,>=3.4->seaborn) (23.2)\n",
      "Requirement already satisfied: pillow>=8 in /home/fm-pc-lt-227/Documents/personal/Mahanagar/Data-Science-Journey/venv/lib/python3.10/site-packages (from matplotlib!=3.6.1,>=3.4->seaborn) (10.2.0)\n",
      "Requirement already satisfied: pyparsing>=2.3.1 in /home/fm-pc-lt-227/Documents/personal/Mahanagar/Data-Science-Journey/venv/lib/python3.10/site-packages (from matplotlib!=3.6.1,>=3.4->seaborn) (3.1.2)\n",
      "Requirement already satisfied: kiwisolver>=1.3.1 in /home/fm-pc-lt-227/Documents/personal/Mahanagar/Data-Science-Journey/venv/lib/python3.10/site-packages (from matplotlib!=3.6.1,>=3.4->seaborn) (1.4.5)\n",
      "Requirement already satisfied: contourpy>=1.0.1 in /home/fm-pc-lt-227/Documents/personal/Mahanagar/Data-Science-Journey/venv/lib/python3.10/site-packages (from matplotlib!=3.6.1,>=3.4->seaborn) (1.2.0)\n",
      "Requirement already satisfied: python-dateutil>=2.7 in /home/fm-pc-lt-227/Documents/personal/Mahanagar/Data-Science-Journey/venv/lib/python3.10/site-packages (from matplotlib!=3.6.1,>=3.4->seaborn) (2.9.0.post0)\n",
      "Requirement already satisfied: fonttools>=4.22.0 in /home/fm-pc-lt-227/Documents/personal/Mahanagar/Data-Science-Journey/venv/lib/python3.10/site-packages (from matplotlib!=3.6.1,>=3.4->seaborn) (4.49.0)\n",
      "Requirement already satisfied: cycler>=0.10 in /home/fm-pc-lt-227/Documents/personal/Mahanagar/Data-Science-Journey/venv/lib/python3.10/site-packages (from matplotlib!=3.6.1,>=3.4->seaborn) (0.12.1)\n",
      "Requirement already satisfied: pytz>=2020.1 in /home/fm-pc-lt-227/Documents/personal/Mahanagar/Data-Science-Journey/venv/lib/python3.10/site-packages (from pandas>=1.2->seaborn) (2024.1)\n",
      "Requirement already satisfied: tzdata>=2022.7 in /home/fm-pc-lt-227/Documents/personal/Mahanagar/Data-Science-Journey/venv/lib/python3.10/site-packages (from pandas>=1.2->seaborn) (2024.1)\n",
      "Requirement already satisfied: six>=1.5 in /home/fm-pc-lt-227/Documents/personal/Mahanagar/Data-Science-Journey/venv/lib/python3.10/site-packages (from python-dateutil>=2.7->matplotlib!=3.6.1,>=3.4->seaborn) (1.16.0)\n",
      "Installing collected packages: seaborn\n",
      "Successfully installed seaborn-0.13.2\n"
     ]
    }
   ],
   "source": [
    "! pip install seaborn"
   ]
  },
  {
   "cell_type": "code",
   "execution_count": 1,
   "metadata": {
    "executionInfo": {
     "elapsed": 2,
     "status": "ok",
     "timestamp": 1692117600081,
     "user": {
      "displayName": "Anish Thapaliya",
      "userId": "06325140887572930045"
     },
     "user_tz": -345
    },
    "id": "6B75HAmEAxlA"
   },
   "outputs": [],
   "source": [
    "import numpy as  np\n",
    "import matplotlib.pyplot as plt\n",
    "import seaborn as sns"
   ]
  },
  {
   "cell_type": "code",
   "execution_count": 2,
   "metadata": {
    "colab": {
     "base_uri": "https://localhost:8080/"
    },
    "executionInfo": {
     "elapsed": 9,
     "status": "ok",
     "timestamp": 1692114775562,
     "user": {
      "displayName": "Anish Thapaliya",
      "userId": "06325140887572930045"
     },
     "user_tz": -345
    },
    "id": "e9iOa2F7232n",
    "outputId": "f442441e-1543-477c-f5e1-81cff6dcc3c9"
   },
   "outputs": [
    {
     "name": "stdout",
     "output_type": "stream",
     "text": [
      "[2, 2, 3, 4, 5, 5, 5, 6, 7, 8, 8, 8, 8, 8, 9, 9, 10, 11, 11, 12]\n"
     ]
    }
   ],
   "source": [
    "# Consider datasets\n",
    "data = [2, 2, 3, 4, 5, 5, 5, 6, 7,\n",
    "        8, 8, 8, 8, 8, 9, 9, 10,\n",
    "        11, 11, 12]\n",
    "\n",
    "print(data)"
   ]
  },
  {
   "cell_type": "code",
   "execution_count": 3,
   "metadata": {
    "colab": {
     "base_uri": "https://localhost:8080/"
    },
    "executionInfo": {
     "elapsed": 5,
     "status": "ok",
     "timestamp": 1692114776177,
     "user": {
      "displayName": "Anish Thapaliya",
      "userId": "06325140887572930045"
     },
     "user_tz": -345
    },
    "id": "jErlaDK14Tnq",
    "outputId": "f1c39c0e-7a3b-4533-dc31-e1bf685bb315"
   },
   "outputs": [
    {
     "name": "stdout",
     "output_type": "stream",
     "text": [
      "[2, 2, 3, 4, 5, 5, 5, 6, 7, 8, 8, 8, 8, 8, 9, 9, 10, 11, 11, 12]\n"
     ]
    }
   ],
   "source": [
    "# sort the data\n",
    "data = sorted(data)\n",
    "print(data)"
   ]
  },
  {
   "cell_type": "markdown",
   "metadata": {
    "id": "lOEvUrjt4Lle"
   },
   "source": [
    "**Q. From the above data, what is the percentile ranking of 10?**"
   ]
  },
  {
   "cell_type": "code",
   "execution_count": 4,
   "metadata": {
    "executionInfo": {
     "elapsed": 478,
     "status": "ok",
     "timestamp": 1692114951878,
     "user": {
      "displayName": "Anish Thapaliya",
      "userId": "06325140887572930045"
     },
     "user_tz": -345
    },
    "id": "w_jw1zky5zJg"
   },
   "outputs": [],
   "source": [
    "def compute_percentile(sorted_data, value):\n",
    "  data_len_below_value = len(sorted_data[:sorted_data.index(value)])\n",
    "  print(data_len_below_value)\n",
    "  n = len(sorted_data)\n",
    "\n",
    "  percentile_rank = data_len_below_value / n\n",
    "\n",
    "  return percentile_rank"
   ]
  },
  {
   "cell_type": "code",
   "execution_count": 5,
   "metadata": {
    "colab": {
     "base_uri": "https://localhost:8080/"
    },
    "executionInfo": {
     "elapsed": 9,
     "status": "ok",
     "timestamp": 1692114956292,
     "user": {
      "displayName": "Anish Thapaliya",
      "userId": "06325140887572930045"
     },
     "user_tz": -345
    },
    "id": "18Hvc8uN3xmJ",
    "outputId": "81e223a8-7569-45b4-e733-abc42b1a7503"
   },
   "outputs": [
    {
     "name": "stdout",
     "output_type": "stream",
     "text": [
      "16\n",
      "Percentile Rank of 10 is: 0.8\n"
     ]
    }
   ],
   "source": [
    "percentile_rank_of_10 = compute_percentile(data, 10)\n",
    "print(f\"Percentile Rank of 10 is: {percentile_rank_of_10}\")"
   ]
  },
  {
   "cell_type": "markdown",
   "metadata": {
    "id": "DXu9P-2v5o2Z"
   },
   "source": [
    "This means 80% of entire distributions is less than 10."
   ]
  },
  {
   "cell_type": "markdown",
   "metadata": {
    "id": "BUfMMeT66aKO"
   },
   "source": [
    "**Q. From the above data, what is the percentile ranking of 11**"
   ]
  },
  {
   "cell_type": "code",
   "execution_count": 6,
   "metadata": {
    "colab": {
     "base_uri": "https://localhost:8080/"
    },
    "executionInfo": {
     "elapsed": 10,
     "status": "ok",
     "timestamp": 1692115058212,
     "user": {
      "displayName": "Anish Thapaliya",
      "userId": "06325140887572930045"
     },
     "user_tz": -345
    },
    "id": "Gk5AQviY5ifb",
    "outputId": "94da6c68-7871-4fc7-c733-0853abf9ab16"
   },
   "outputs": [
    {
     "name": "stdout",
     "output_type": "stream",
     "text": [
      "17\n",
      "Percentile Rank of 11 is: 0.85\n"
     ]
    }
   ],
   "source": [
    "percentile_rank_of_11 = compute_percentile(data, 11)\n",
    "\n",
    "print(f\"Percentile Rank of 11 is: {percentile_rank_of_11}\")"
   ]
  },
  {
   "cell_type": "markdown",
   "metadata": {
    "id": "a8rkkvjr6tzb"
   },
   "source": [
    "This means 85% of the entire distribution is less than 11."
   ]
  },
  {
   "cell_type": "markdown",
   "metadata": {
    "id": "-qSjqd-F7DWB"
   },
   "source": [
    "**What value exists at percentile ranking of 25%?**\n",
    "- 25% percentile is also called as Q1.\n",
    "- Q1 is the median of data points between lower item and median.\n",
    "- `Formulae:`\n",
    "  - value = (percentile / 100) * (n + 1)"
   ]
  },
  {
   "cell_type": "code",
   "execution_count": 11,
   "metadata": {
    "colab": {
     "base_uri": "https://localhost:8080/"
    },
    "executionInfo": {
     "elapsed": 11,
     "status": "ok",
     "timestamp": 1692115319907,
     "user": {
      "displayName": "Anish Thapaliya",
      "userId": "06325140887572930045"
     },
     "user_tz": -345
    },
    "id": "-tu3CXSA5iao",
    "outputId": "cca6ebb2-b63b-45de-8b97-2c3844ec0d1e"
   },
   "outputs": [
    {
     "name": "stdout",
     "output_type": "stream",
     "text": [
      "5.5\n"
     ]
    }
   ],
   "source": [
    "percentile = 25\n",
    "n = len(data)\n",
    "\n",
    "value = (percentile / 100) * (n + 1)\n",
    "print(value)"
   ]
  },
  {
   "cell_type": "markdown",
   "metadata": {
    "id": "09KGOJXg77vx"
   },
   "source": [
    "- Here 5.25 is in between 5th & 6th index.\n",
    "- 5th index value = 5\n",
    "- 6th index value = 5\n",
    "\n",
    "- `value = (5 + 5)/2 = `\n",
    "\n",
    "```python\n",
    "value = (5 + 5)/2  = 5\n",
    "\n",
    "Hence, value = 5\n",
    "```"
   ]
  },
  {
   "cell_type": "markdown",
   "metadata": {
    "id": "Ep9BVLG9A5p5"
   },
   "source": [
    "**Compute 25% percentile using Numpy**"
   ]
  },
  {
   "cell_type": "code",
   "execution_count": 12,
   "metadata": {
    "colab": {
     "base_uri": "https://localhost:8080/"
    },
    "executionInfo": {
     "elapsed": 9,
     "status": "ok",
     "timestamp": 1692116830769,
     "user": {
      "displayName": "Anish Thapaliya",
      "userId": "06325140887572930045"
     },
     "user_tz": -345
    },
    "id": "XKh3bJKV5UWQ",
    "outputId": "c03c1647-9085-40b3-a60b-adebf927bb99"
   },
   "outputs": [
    {
     "name": "stdout",
     "output_type": "stream",
     "text": [
      "5.0\n"
     ]
    }
   ],
   "source": [
    "import numpy as np\n",
    "\n",
    "# 25% percentile\n",
    "data = [2, 2, 3, 4, 5, 5, 5, 6, 7,\n",
    "        8, 8, 8, 8, 8, 9, 9, 10,\n",
    "        11, 11, 12]\n",
    "\n",
    "value = np.percentile(data, 25)\n",
    "print(value)"
   ]
  },
  {
   "cell_type": "markdown",
   "metadata": {
    "id": "Rxe28tZxBeKX"
   },
   "source": [
    "- Hence, we got 25% of the distributions is below 5.0"
   ]
  },
  {
   "cell_type": "markdown",
   "metadata": {
    "id": "dRB0BuDjDYAx"
   },
   "source": [
    "### Box-plot"
   ]
  },
  {
   "cell_type": "code",
   "execution_count": 13,
   "metadata": {
    "colab": {
     "base_uri": "https://localhost:8080/",
     "height": 564
    },
    "executionInfo": {
     "elapsed": 534,
     "status": "ok",
     "timestamp": 1692117695191,
     "user": {
      "displayName": "Anish Thapaliya",
      "userId": "06325140887572930045"
     },
     "user_tz": -345
    },
    "id": "_e2MdGY4BQIa",
    "outputId": "94976c86-528e-4ec1-f2cc-78c879d479d6"
   },
   "outputs": [
    {
     "data": {
      "image/png": "[encoded data removed]",
      "text/plain": [
       "<Figure size 800x600 with 1 Axes>"
      ]
     },
     "metadata": {},
     "output_type": "display_data"
    }
   ],
   "source": [
    "data = [2, 2, 3, 4, 5, 5, 5, 6, 7,\n",
    "        8, 8, 8, 8, 8, 9, 9, 10,\n",
    "        11, 11, 12, 100]\n",
    "\n",
    "\n",
    "plt.figure(figsize=(8, 6)) # set the figure size\n",
    "sns.boxplot(data=data, color='skyblue') # create the box plot\n",
    "plt.xlabel('Data')\n",
    "plt.ylabel('Values')\n",
    "plt.title('Box plot of Data points')\n",
    "plt.show()"
   ]
  },
  {
   "cell_type": "markdown",
   "metadata": {
    "id": "5JGrRI0xGQ21"
   },
   "source": [
    "- Here,\n",
    "  - Upper Limit is Upper Fence  (Incase of Outliers)\n",
    "  - Lower Limit is Lower Fence  (Incase of Outliers)"
   ]
  },
  {
   "cell_type": "code",
   "execution_count": 10,
   "metadata": {
    "id": "v0fw-cnZDjCn"
   },
   "outputs": [],
   "source": [
    "# lower_whisker = max(min(data), q1 - 1.5 * iqr)\n",
    "# upper_whisker = min(max(data), q3 + 1.5 * iqr)"
   ]
  },
  {
   "cell_type": "code",
   "execution_count": null,
   "metadata": {},
   "outputs": [],
   "source": []
  }
 ],
 "metadata": {
  "colab": {
   "authorship_tag": "ABX9TyPk+qICARa0qyIRS6yv/WiL",
   "provenance": []
  },
  "kernelspec": {
   "display_name": "Python 3 (ipykernel)",
   "language": "python",
   "name": "python3"
  },
  "language_info": {
   "codemirror_mode": {
    "name": "ipython",
    "version": 3
   },
   "file_extension": ".py",
   "mimetype": "text/x-python",
   "name": "python",
   "nbconvert_exporter": "python",
   "pygments_lexer": "ipython3",
   "version": "3.11.5"
  }
 },
 "nbformat": 4,
 "nbformat_minor": 1
}
