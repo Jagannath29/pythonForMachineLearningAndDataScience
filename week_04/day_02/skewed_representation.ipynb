{
 "cells": [
  {
   "cell_type": "code",
   "execution_count": 28,
   "metadata": {},
   "outputs": [],
   "source": [
    "import numpy as np\n",
    "import matplotlib.pyplot as plt\n",
    "import seaborn as sns\n",
    "\n",
    "%matplotlib inline"
   ]
  },
  {
   "cell_type": "code",
   "execution_count": 29,
   "metadata": {},
   "outputs": [],
   "source": [
    "import statistics\n"
   ]
  },
  {
   "cell_type": "code",
   "execution_count": 30,
   "metadata": {},
   "outputs": [
    {
     "data": {
      "text/html": [
       "<div>\n",
       "<style scoped>\n",
       "    .dataframe tbody tr th:only-of-type {\n",
       "        vertical-align: middle;\n",
       "    }\n",
       "\n",
       "    .dataframe tbody tr th {\n",
       "        vertical-align: top;\n",
       "    }\n",
       "\n",
       "    .dataframe thead th {\n",
       "        text-align: right;\n",
       "    }\n",
       "</style>\n",
       "<table border=\"1\" class=\"dataframe\">\n",
       "  <thead>\n",
       "    <tr style=\"text-align: right;\">\n",
       "      <th></th>\n",
       "      <th>total_bill</th>\n",
       "      <th>tip</th>\n",
       "      <th>sex</th>\n",
       "      <th>smoker</th>\n",
       "      <th>day</th>\n",
       "      <th>time</th>\n",
       "      <th>size</th>\n",
       "    </tr>\n",
       "  </thead>\n",
       "  <tbody>\n",
       "    <tr>\n",
       "      <th>0</th>\n",
       "      <td>16.99</td>\n",
       "      <td>1.01</td>\n",
       "      <td>Female</td>\n",
       "      <td>No</td>\n",
       "      <td>Sun</td>\n",
       "      <td>Dinner</td>\n",
       "      <td>2</td>\n",
       "    </tr>\n",
       "    <tr>\n",
       "      <th>1</th>\n",
       "      <td>10.34</td>\n",
       "      <td>1.66</td>\n",
       "      <td>Male</td>\n",
       "      <td>No</td>\n",
       "      <td>Sun</td>\n",
       "      <td>Dinner</td>\n",
       "      <td>3</td>\n",
       "    </tr>\n",
       "    <tr>\n",
       "      <th>2</th>\n",
       "      <td>21.01</td>\n",
       "      <td>3.50</td>\n",
       "      <td>Male</td>\n",
       "      <td>No</td>\n",
       "      <td>Sun</td>\n",
       "      <td>Dinner</td>\n",
       "      <td>3</td>\n",
       "    </tr>\n",
       "    <tr>\n",
       "      <th>3</th>\n",
       "      <td>23.68</td>\n",
       "      <td>3.31</td>\n",
       "      <td>Male</td>\n",
       "      <td>No</td>\n",
       "      <td>Sun</td>\n",
       "      <td>Dinner</td>\n",
       "      <td>2</td>\n",
       "    </tr>\n",
       "    <tr>\n",
       "      <th>4</th>\n",
       "      <td>24.59</td>\n",
       "      <td>3.61</td>\n",
       "      <td>Female</td>\n",
       "      <td>No</td>\n",
       "      <td>Sun</td>\n",
       "      <td>Dinner</td>\n",
       "      <td>4</td>\n",
       "    </tr>\n",
       "    <tr>\n",
       "      <th>5</th>\n",
       "      <td>25.29</td>\n",
       "      <td>4.71</td>\n",
       "      <td>Male</td>\n",
       "      <td>No</td>\n",
       "      <td>Sun</td>\n",
       "      <td>Dinner</td>\n",
       "      <td>4</td>\n",
       "    </tr>\n",
       "    <tr>\n",
       "      <th>6</th>\n",
       "      <td>8.77</td>\n",
       "      <td>2.00</td>\n",
       "      <td>Male</td>\n",
       "      <td>No</td>\n",
       "      <td>Sun</td>\n",
       "      <td>Dinner</td>\n",
       "      <td>2</td>\n",
       "    </tr>\n",
       "    <tr>\n",
       "      <th>7</th>\n",
       "      <td>26.88</td>\n",
       "      <td>3.12</td>\n",
       "      <td>Male</td>\n",
       "      <td>No</td>\n",
       "      <td>Sun</td>\n",
       "      <td>Dinner</td>\n",
       "      <td>4</td>\n",
       "    </tr>\n",
       "    <tr>\n",
       "      <th>8</th>\n",
       "      <td>15.04</td>\n",
       "      <td>1.96</td>\n",
       "      <td>Male</td>\n",
       "      <td>No</td>\n",
       "      <td>Sun</td>\n",
       "      <td>Dinner</td>\n",
       "      <td>2</td>\n",
       "    </tr>\n",
       "    <tr>\n",
       "      <th>9</th>\n",
       "      <td>14.78</td>\n",
       "      <td>3.23</td>\n",
       "      <td>Male</td>\n",
       "      <td>No</td>\n",
       "      <td>Sun</td>\n",
       "      <td>Dinner</td>\n",
       "      <td>2</td>\n",
       "    </tr>\n",
       "  </tbody>\n",
       "</table>\n",
       "</div>"
      ],
      "text/plain": [
       "   total_bill   tip     sex smoker  day    time  size\n",
       "0       16.99  1.01  Female     No  Sun  Dinner     2\n",
       "1       10.34  1.66    Male     No  Sun  Dinner     3\n",
       "2       21.01  3.50    Male     No  Sun  Dinner     3\n",
       "3       23.68  3.31    Male     No  Sun  Dinner     2\n",
       "4       24.59  3.61  Female     No  Sun  Dinner     4\n",
       "5       25.29  4.71    Male     No  Sun  Dinner     4\n",
       "6        8.77  2.00    Male     No  Sun  Dinner     2\n",
       "7       26.88  3.12    Male     No  Sun  Dinner     4\n",
       "8       15.04  1.96    Male     No  Sun  Dinner     2\n",
       "9       14.78  3.23    Male     No  Sun  Dinner     2"
      ]
     },
     "execution_count": 30,
     "metadata": {},
     "output_type": "execute_result"
    }
   ],
   "source": [
    "df = sns.load_dataset('tips')\n",
    "df.head(10)"
   ]
  },
  {
   "cell_type": "code",
   "execution_count": 31,
   "metadata": {},
   "outputs": [
    {
     "data": {
      "text/plain": [
       "pandas.core.frame.DataFrame"
      ]
     },
     "execution_count": 31,
     "metadata": {},
     "output_type": "execute_result"
    }
   ],
   "source": [
    "type(df)"
   ]
  },
  {
   "cell_type": "code",
   "execution_count": 32,
   "metadata": {},
   "outputs": [
    {
     "data": {
      "text/plain": [
       "(244, 7)"
      ]
     },
     "execution_count": 32,
     "metadata": {},
     "output_type": "execute_result"
    }
   ],
   "source": [
    "df.shape\n"
   ]
  },
  {
   "cell_type": "code",
   "execution_count": 38,
   "metadata": {},
   "outputs": [
    {
     "data": {
      "text/plain": [
       "19.78594262295082"
      ]
     },
     "execution_count": 38,
     "metadata": {},
     "output_type": "execute_result"
    }
   ],
   "source": [
    "np.mean(df['total_bill'])"
   ]
  },
  {
   "cell_type": "code",
   "execution_count": 39,
   "metadata": {},
   "outputs": [
    {
     "data": {
      "text/plain": [
       "17.795"
      ]
     },
     "execution_count": 39,
     "metadata": {},
     "output_type": "execute_result"
    }
   ],
   "source": [
    "np.median(df['total_bill'])"
   ]
  },
  {
   "cell_type": "code",
   "execution_count": null,
   "metadata": {},
   "outputs": [],
   "source": []
  },
  {
   "cell_type": "code",
   "execution_count": 43,
   "metadata": {},
   "outputs": [
    {
     "data": {
      "text/plain": [
       "total_bill\n",
       "13.42    3\n",
       "13.81    2\n",
       "15.98    2\n",
       "17.92    2\n",
       "10.07    2\n",
       "        ..\n",
       "24.71    1\n",
       "21.16    1\n",
       "28.97    1\n",
       "22.49    1\n",
       "18.78    1\n",
       "Name: count, Length: 229, dtype: int64"
      ]
     },
     "execution_count": 43,
     "metadata": {},
     "output_type": "execute_result"
    }
   ],
   "source": [
    "df['total_bill'].value_counts()"
   ]
  },
  {
   "cell_type": "code",
   "execution_count": 55,
   "metadata": {},
   "outputs": [
    {
     "data": {
      "text/plain": [
       "array([16.99, 10.34, 21.01, 23.68, 24.59, 25.29,  8.77, 26.88, 15.04,\n",
       "       14.78, 10.27, 35.26, 15.42, 18.43, 14.83, 21.58, 10.33, 16.29,\n",
       "       16.97, 20.65, 17.92, 20.29, 15.77, 39.42, 19.82, 17.81, 13.37,\n",
       "       12.69, 21.7 , 19.65,  9.55, 18.35, 15.06, 20.69, 17.78, 24.06,\n",
       "       16.31, 16.93, 18.69, 31.27, 16.04, 17.46, 13.94,  9.68, 30.4 ,\n",
       "       18.29, 22.23, 32.4 , 28.55, 18.04, 12.54, 10.29, 34.81,  9.94,\n",
       "       25.56, 19.49, 38.01, 26.41, 11.24, 48.27, 13.81, 11.02, 17.59,\n",
       "       20.08, 16.45,  3.07, 20.23, 15.01, 12.02, 17.07, 26.86, 25.28,\n",
       "       14.73, 10.51, 27.2 , 22.76, 17.29, 19.44, 16.66, 10.07, 32.68,\n",
       "       15.98, 34.83, 13.03, 18.28, 24.71, 21.16, 28.97, 22.49,  5.75,\n",
       "       16.32, 22.75, 40.17, 27.28, 12.03, 12.46, 11.35, 15.38, 44.3 ,\n",
       "       22.42, 20.92, 15.36, 20.49, 25.21, 18.24, 14.31, 14.  ,  7.25,\n",
       "       38.07, 23.95, 25.71, 17.31, 29.93, 10.65, 12.43, 24.08, 11.69,\n",
       "       13.42, 14.26, 15.95, 12.48, 29.8 ,  8.52, 14.52, 11.38, 22.82,\n",
       "       19.08, 20.27, 11.17, 12.26, 18.26,  8.51, 14.15, 16.  , 13.16,\n",
       "       17.47, 34.3 , 41.19, 27.05, 16.43,  8.35, 18.64, 11.87,  9.78,\n",
       "        7.51, 14.07, 13.13, 17.26, 24.55, 19.77, 29.85, 48.17, 25.  ,\n",
       "       13.39, 16.49, 21.5 , 12.66, 16.21, 17.51, 24.52, 20.76, 31.71,\n",
       "       10.59, 10.63, 50.81, 15.81, 31.85, 16.82, 32.9 , 17.89, 14.48,\n",
       "        9.6 , 34.63, 34.65, 23.33, 45.35, 23.17, 40.55, 20.9 , 30.46,\n",
       "       18.15, 23.1 , 15.69, 19.81, 28.44, 15.48, 16.58,  7.56, 43.11,\n",
       "       13.  , 13.51, 18.71, 12.74, 16.4 , 20.53, 16.47, 26.59, 38.73,\n",
       "       24.27, 12.76, 30.06, 25.89, 48.33, 13.27, 28.17, 12.9 , 28.15,\n",
       "       11.59,  7.74, 30.14, 12.16,  8.58, 16.27, 10.09, 20.45, 13.28,\n",
       "       22.12, 24.01, 11.61, 10.77, 15.53, 12.6 , 32.83, 35.83, 29.03,\n",
       "       27.18, 22.67, 17.82, 18.78])"
      ]
     },
     "execution_count": 55,
     "metadata": {},
     "output_type": "execute_result"
    }
   ],
   "source": [
    "a = df['total_bill'].unique()\n",
    "a"
   ]
  },
  {
   "cell_type": "code",
   "execution_count": 54,
   "metadata": {},
   "outputs": [
    {
     "data": {
      "text/plain": [
       "[3.07,\n",
       " 5.75,\n",
       " 7.25,\n",
       " 7.51,\n",
       " 7.56,\n",
       " 7.74,\n",
       " 8.35,\n",
       " 8.51,\n",
       " 8.52,\n",
       " 8.58,\n",
       " 8.77,\n",
       " 9.55,\n",
       " 9.6,\n",
       " 9.68,\n",
       " 9.78,\n",
       " 9.94,\n",
       " 10.07,\n",
       " 10.09,\n",
       " 10.27,\n",
       " 10.29,\n",
       " 10.33,\n",
       " 10.34,\n",
       " 10.51,\n",
       " 10.59,\n",
       " 10.63,\n",
       " 10.65,\n",
       " 10.77,\n",
       " 11.02,\n",
       " 11.17,\n",
       " 11.24,\n",
       " 11.35,\n",
       " 11.38,\n",
       " 11.59,\n",
       " 11.61,\n",
       " 11.69,\n",
       " 11.87,\n",
       " 12.02,\n",
       " 12.03,\n",
       " 12.16,\n",
       " 12.26,\n",
       " 12.43,\n",
       " 12.46,\n",
       " 12.48,\n",
       " 12.54,\n",
       " 12.6,\n",
       " 12.66,\n",
       " 12.69,\n",
       " 12.74,\n",
       " 12.76,\n",
       " 12.9,\n",
       " 13.0,\n",
       " 13.03,\n",
       " 13.13,\n",
       " 13.16,\n",
       " 13.27,\n",
       " 13.28,\n",
       " 13.37,\n",
       " 13.39,\n",
       " 13.42,\n",
       " 13.51,\n",
       " 13.81,\n",
       " 13.94,\n",
       " 14.0,\n",
       " 14.07,\n",
       " 14.15,\n",
       " 14.26,\n",
       " 14.31,\n",
       " 14.48,\n",
       " 14.52,\n",
       " 14.73,\n",
       " 14.78,\n",
       " 14.83,\n",
       " 15.01,\n",
       " 15.04,\n",
       " 15.06,\n",
       " 15.36,\n",
       " 15.38,\n",
       " 15.42,\n",
       " 15.48,\n",
       " 15.53,\n",
       " 15.69,\n",
       " 15.77,\n",
       " 15.81,\n",
       " 15.95,\n",
       " 15.98,\n",
       " 16.0,\n",
       " 16.04,\n",
       " 16.21,\n",
       " 16.27,\n",
       " 16.29,\n",
       " 16.31,\n",
       " 16.32,\n",
       " 16.4,\n",
       " 16.43,\n",
       " 16.45,\n",
       " 16.47,\n",
       " 16.49,\n",
       " 16.58,\n",
       " 16.66,\n",
       " 16.82,\n",
       " 16.93,\n",
       " 16.97,\n",
       " 16.99,\n",
       " 17.07,\n",
       " 17.26,\n",
       " 17.29,\n",
       " 17.31,\n",
       " 17.46,\n",
       " 17.47,\n",
       " 17.51,\n",
       " 17.59,\n",
       " 17.78,\n",
       " 17.81,\n",
       " 17.82,\n",
       " 17.89,\n",
       " 17.92,\n",
       " 18.04,\n",
       " 18.15,\n",
       " 18.24,\n",
       " 18.26,\n",
       " 18.28,\n",
       " 18.29,\n",
       " 18.35,\n",
       " 18.43,\n",
       " 18.64,\n",
       " 18.69,\n",
       " 18.71,\n",
       " 18.78,\n",
       " 19.08,\n",
       " 19.44,\n",
       " 19.49,\n",
       " 19.65,\n",
       " 19.77,\n",
       " 19.81,\n",
       " 19.82,\n",
       " 20.08,\n",
       " 20.23,\n",
       " 20.27,\n",
       " 20.29,\n",
       " 20.45,\n",
       " 20.49,\n",
       " 20.53,\n",
       " 20.65,\n",
       " 20.69,\n",
       " 20.76,\n",
       " 20.9,\n",
       " 20.92,\n",
       " 21.01,\n",
       " 21.16,\n",
       " 21.5,\n",
       " 21.58,\n",
       " 21.7,\n",
       " 22.12,\n",
       " 22.23,\n",
       " 22.42,\n",
       " 22.49,\n",
       " 22.67,\n",
       " 22.75,\n",
       " 22.76,\n",
       " 22.82,\n",
       " 23.1,\n",
       " 23.17,\n",
       " 23.33,\n",
       " 23.68,\n",
       " 23.95,\n",
       " 24.01,\n",
       " 24.06,\n",
       " 24.08,\n",
       " 24.27,\n",
       " 24.52,\n",
       " 24.55,\n",
       " 24.59,\n",
       " 24.71,\n",
       " 25.0,\n",
       " 25.21,\n",
       " 25.28,\n",
       " 25.29,\n",
       " 25.56,\n",
       " 25.71,\n",
       " 25.89,\n",
       " 26.41,\n",
       " 26.59,\n",
       " 26.86,\n",
       " 26.88,\n",
       " 27.05,\n",
       " 27.18,\n",
       " 27.2,\n",
       " 27.28,\n",
       " 28.15,\n",
       " 28.17,\n",
       " 28.44,\n",
       " 28.55,\n",
       " 28.97,\n",
       " 29.03,\n",
       " 29.8,\n",
       " 29.85,\n",
       " 29.93,\n",
       " 30.06,\n",
       " 30.14,\n",
       " 30.4,\n",
       " 30.46,\n",
       " 31.27,\n",
       " 31.71,\n",
       " 31.85,\n",
       " 32.4,\n",
       " 32.68,\n",
       " 32.83,\n",
       " 32.9,\n",
       " 34.3,\n",
       " 34.63,\n",
       " 34.65,\n",
       " 34.81,\n",
       " 34.83,\n",
       " 35.26,\n",
       " 35.83,\n",
       " 38.01,\n",
       " 38.07,\n",
       " 38.73,\n",
       " 39.42,\n",
       " 40.17,\n",
       " 40.55,\n",
       " 41.19,\n",
       " 43.11,\n",
       " 44.3,\n",
       " 45.35,\n",
       " 48.17,\n",
       " 48.27,\n",
       " 48.33,\n",
       " 50.81]"
      ]
     },
     "execution_count": 54,
     "metadata": {},
     "output_type": "execute_result"
    }
   ],
   "source": [
    "sorted(a)"
   ]
  },
  {
   "cell_type": "code",
   "execution_count": 56,
   "metadata": {},
   "outputs": [
    {
     "data": {
      "text/plain": [
       "<Axes: ylabel='total_bill'>"
      ]
     },
     "execution_count": 56,
     "metadata": {},
     "output_type": "execute_result"
    },
    {
     "data": {
      "image/png": "[encoded data removed]",
      "text/plain": [
       "<Figure size 640x480 with 1 Axes>"
      ]
     },
     "metadata": {},
     "output_type": "display_data"
    }
   ],
   "source": [
    "sns.boxplot(df['total_bill'])"
   ]
  },
  {
   "cell_type": "code",
   "execution_count": 58,
   "metadata": {},
   "outputs": [],
   "source": [
    "# plt.boxplot(df['total_bill'])"
   ]
  },
  {
   "cell_type": "code",
   "execution_count": 63,
   "metadata": {},
   "outputs": [
    {
     "data": {
      "image/png": "[encoded data removed]",
      "text/plain": [
       "<Figure size 640x480 with 1 Axes>"
      ]
     },
     "metadata": {},
     "output_type": "display_data"
    }
   ],
   "source": [
    "sns.histplot(df['total_bill'], kde=True, color='red') #Kde is the line\n",
    "plt.show()"
   ]
  },
  {
   "cell_type": "code",
   "execution_count": 65,
   "metadata": {},
   "outputs": [
    {
     "data": {
      "text/html": [
       "<div>\n",
       "<style scoped>\n",
       "    .dataframe tbody tr th:only-of-type {\n",
       "        vertical-align: middle;\n",
       "    }\n",
       "\n",
       "    .dataframe tbody tr th {\n",
       "        vertical-align: top;\n",
       "    }\n",
       "\n",
       "    .dataframe thead th {\n",
       "        text-align: right;\n",
       "    }\n",
       "</style>\n",
       "<table border=\"1\" class=\"dataframe\">\n",
       "  <thead>\n",
       "    <tr style=\"text-align: right;\">\n",
       "      <th></th>\n",
       "      <th>sepal_length</th>\n",
       "      <th>sepal_width</th>\n",
       "      <th>petal_length</th>\n",
       "      <th>petal_width</th>\n",
       "      <th>species</th>\n",
       "    </tr>\n",
       "  </thead>\n",
       "  <tbody>\n",
       "    <tr>\n",
       "      <th>0</th>\n",
       "      <td>5.1</td>\n",
       "      <td>3.5</td>\n",
       "      <td>1.4</td>\n",
       "      <td>0.2</td>\n",
       "      <td>setosa</td>\n",
       "    </tr>\n",
       "    <tr>\n",
       "      <th>1</th>\n",
       "      <td>4.9</td>\n",
       "      <td>3.0</td>\n",
       "      <td>1.4</td>\n",
       "      <td>0.2</td>\n",
       "      <td>setosa</td>\n",
       "    </tr>\n",
       "    <tr>\n",
       "      <th>2</th>\n",
       "      <td>4.7</td>\n",
       "      <td>3.2</td>\n",
       "      <td>1.3</td>\n",
       "      <td>0.2</td>\n",
       "      <td>setosa</td>\n",
       "    </tr>\n",
       "    <tr>\n",
       "      <th>3</th>\n",
       "      <td>4.6</td>\n",
       "      <td>3.1</td>\n",
       "      <td>1.5</td>\n",
       "      <td>0.2</td>\n",
       "      <td>setosa</td>\n",
       "    </tr>\n",
       "    <tr>\n",
       "      <th>4</th>\n",
       "      <td>5.0</td>\n",
       "      <td>3.6</td>\n",
       "      <td>1.4</td>\n",
       "      <td>0.2</td>\n",
       "      <td>setosa</td>\n",
       "    </tr>\n",
       "  </tbody>\n",
       "</table>\n",
       "</div>"
      ],
      "text/plain": [
       "   sepal_length  sepal_width  petal_length  petal_width species\n",
       "0           5.1          3.5           1.4          0.2  setosa\n",
       "1           4.9          3.0           1.4          0.2  setosa\n",
       "2           4.7          3.2           1.3          0.2  setosa\n",
       "3           4.6          3.1           1.5          0.2  setosa\n",
       "4           5.0          3.6           1.4          0.2  setosa"
      ]
     },
     "execution_count": 65,
     "metadata": {},
     "output_type": "execute_result"
    }
   ],
   "source": [
    "df_irish = sns.load_dataset('iris')\n",
    "df_irish.head()"
   ]
  },
  {
   "cell_type": "code",
   "execution_count": 68,
   "metadata": {},
   "outputs": [
    {
     "data": {
      "text/plain": [
       "<Axes: xlabel='sepal_length', ylabel='Count'>"
      ]
     },
     "execution_count": 68,
     "metadata": {},
     "output_type": "execute_result"
    },
    {
     "data": {
      "image/png": "[encoded data removed]",
      "text/plain": [
       "<Figure size 640x480 with 1 Axes>"
      ]
     },
     "metadata": {},
     "output_type": "display_data"
    }
   ],
   "source": [
    "sns.histplot(df_irish['sepal_length'], kde=True)\n"
   ]
  },
  {
   "cell_type": "code",
   "execution_count": 70,
   "metadata": {},
   "outputs": [
    {
     "data": {
      "image/png": "[encoded data removed]",
      "text/plain": [
       "<Figure size 640x480 with 1 Axes>"
      ]
     },
     "metadata": {},
     "output_type": "display_data"
    }
   ],
   "source": [
    "sns.histplot(df_irish['sepal_width'], kde=True)\n",
    "plt.show()"
   ]
  },
  {
   "cell_type": "code",
   "execution_count": 74,
   "metadata": {},
   "outputs": [
    {
     "data": {
      "image/png": "[encoded data removed]",
      "text/plain": [
       "<Figure size 640x480 with 1 Axes>"
      ]
     },
     "metadata": {},
     "output_type": "display_data"
    }
   ],
   "source": [
    "sns.countplot(x = df_irish['species'])\n",
    "plt.show()"
   ]
  },
  {
   "cell_type": "code",
   "execution_count": 75,
   "metadata": {},
   "outputs": [
    {
     "data": {
      "text/plain": [
       "array([5.1, 6.4])"
      ]
     },
     "execution_count": 75,
     "metadata": {},
     "output_type": "execute_result"
    }
   ],
   "source": [
    "np.percentile(df_irish['sepal_length'], [25, 75])"
   ]
  },
  {
   "cell_type": "code",
   "execution_count": null,
   "metadata": {},
   "outputs": [],
   "source": []
  }
 ],
 "metadata": {
  "kernelspec": {
   "display_name": "venv",
   "language": "python",
   "name": "python3"
  },
  "language_info": {
   "codemirror_mode": {
    "name": "ipython",
    "version": 3
   },
   "file_extension": ".py",
   "mimetype": "text/x-python",
   "name": "python",
   "nbconvert_exporter": "python",
   "pygments_lexer": "ipython3",
   "version": "3.11.5"
  }
 },
 "nbformat": 4,
 "nbformat_minor": 2
}
