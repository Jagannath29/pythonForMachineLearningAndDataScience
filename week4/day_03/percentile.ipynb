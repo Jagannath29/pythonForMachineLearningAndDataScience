{
 "cells": [
  {
   "cell_type": "code",
   "execution_count": null,
   "metadata": {},
   "outputs": [],
   "source": [
    "import numpy as np\n",
    "import matplotlib.pyplot as plt\n",
    "import seaborn as sns"
   ]
  },
  {
   "cell_type": "code",
   "execution_count": null,
   "metadata": {},
   "outputs": [],
   "source": [
    "data = [ 2, 3, 4, 5, 5, 2, 6, 7,12, 5, 15, 1, 50, 8, 10, 9, 11, 22, 21, 71, 12]\n"
   ]
  },
  {
   "cell_type": "code",
   "execution_count": null,
   "metadata": {},
   "outputs": [],
   "source": [
    "data.sort()\n",
    "data"
   ]
  },
  {
   "cell_type": "code",
   "execution_count": null,
   "metadata": {},
   "outputs": [],
   "source": [
    "def compute_percentile(sorted_data, value):\n",
    "    data_len_below_value = len(sorted_data[:sorted_data.index(value)])\n",
    "    n = len(sorted_data)\n",
    "    \n",
    "    \n",
    "    percentle_rank = data_len_below_value / n\n",
    "    return percentle_rank"
   ]
  },
  {
   "cell_type": "code",
   "execution_count": null,
   "metadata": {},
   "outputs": [],
   "source": [
    "percentile_rank_of_10 = compute_percentile(data, 10)\n",
    "print(f\"Percentile rank of 11 is {percentile_rank_of_10}\")"
   ]
  },
  {
   "cell_type": "code",
   "execution_count": null,
   "metadata": {},
   "outputs": [],
   "source": [
    "percentile = 25\n",
    "n = len(data)\n",
    "\n",
    "value = (percentile / 100) * (n + 1)\n",
    "print(value)"
   ]
  },
  {
   "cell_type": "code",
   "execution_count": null,
   "metadata": {},
   "outputs": [],
   "source": [
    "import numpy as np\n",
    "\n",
    "# 25% percentile\n",
    "data = [2, 2, 3, 4, 5, 5, 5, 6, 7,\n",
    "        8, 8, 8, 8, 8, 9, 9, 10,\n",
    "        11, 11, 12]\n",
    "\n",
    "value = np.percentile(data, 25)\n",
    "print(value)"
   ]
  },
  {
   "cell_type": "code",
   "execution_count": null,
   "metadata": {},
   "outputs": [],
   "source": [
    "data = [2,2,3,4,5,5,5,6,7,8,8,8,9,10,10,11,11,12,12,50]\n",
    "\n",
    "plt.figure(figsize = (8, 6))\n",
    "sns.boxplot(data = data, color = 'skyblue')\n",
    "plt.xlabel('Data')\n",
    "plt.ylabel('Values')\n",
    "plt.title('Box plot of data points')\n",
    "plt.show()"
   ]
  },
  {
   "cell_type": "code",
   "execution_count": null,
   "metadata": {},
   "outputs": [],
   "source": [
    "# go to kaggle \n",
    "# size (10, 1500)"
   ]
  },
  {
   "cell_type": "code",
   "execution_count": null,
   "metadata": {},
   "outputs": [],
   "source": []
  }
 ],
 "metadata": {
  "language_info": {
   "name": "python"
  }
 },
 "nbformat": 4,
 "nbformat_minor": 2
}
