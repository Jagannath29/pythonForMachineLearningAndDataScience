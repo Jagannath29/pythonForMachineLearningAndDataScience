{
 "cells": [
  {
   "cell_type": "code",
   "execution_count": 17,
   "metadata": {},
   "outputs": [
    {
     "name": "stdout",
     "output_type": "stream",
     "text": [
      "('jagannath', 'khadka')\n",
      "{'age': 'kina'}\n"
     ]
    }
   ],
   "source": [
    "def test_program(*args, **kwargs):\n",
    "    print(args)\n",
    "    print(kwargs)\n",
    "    \n",
    "if __name__ == '__main__':\n",
    "    name = list(('jagannath', 'khadka'))\n",
    "    test_program(*name, age = 'kina')\n",
    "    \n",
    "# use * to return args in tuple\n",
    "# use ** to return kwargs in tuple\n",
    " "
   ]
  },
  {
   "cell_type": "code",
   "execution_count": null,
   "metadata": {},
   "outputs": [],
   "source": []
  }
 ],
 "metadata": {
  "kernelspec": {
   "display_name": "Python 3",
   "language": "python",
   "name": "python3"
  },
  "language_info": {
   "codemirror_mode": {
    "name": "ipython",
    "version": 3
   },
   "file_extension": ".py",
   "mimetype": "text/x-python",
   "name": "python",
   "nbconvert_exporter": "python",
   "pygments_lexer": "ipython3",
   "version": "3.12.1"
  }
 },
 "nbformat": 4,
 "nbformat_minor": 2
}
